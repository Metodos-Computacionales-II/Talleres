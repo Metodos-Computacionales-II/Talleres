{
 "cells": [
  {
   "cell_type": "markdown",
   "metadata": {},
   "source": [
    "Talller 2"
   ]
  },
  {
   "cell_type": "code",
   "execution_count": 54,
   "metadata": {},
   "outputs": [],
   "source": [
    "import numpy as np\n",
    "import pandas as pd\n",
    "import matplotlib.pyplot as plt\n"
   ]
  },
  {
   "cell_type": "markdown",
   "metadata": {},
   "source": [
    "Punto 1"
   ]
  },
  {
   "cell_type": "code",
   "execution_count": 55,
   "metadata": {},
   "outputs": [
    {
     "data": {
      "text/plain": [
       "Year             object\n",
       "Month            object\n",
       "Day              object\n",
       "SSN             float64\n",
       "Fecha    datetime64[ns]\n",
       "dtype: object"
      ]
     },
     "execution_count": 55,
     "metadata": {},
     "output_type": "execute_result"
    }
   ],
   "source": [
    "datos=pd.read_fwf('Datos_punto1.txt',names=['Year','Month','Day','SSN']).drop(0)\n",
    "datos['Fecha']=pd.to_datetime(datos[['Year', 'Month', 'Day']])\n",
    "datos.dtypes"
   ]
  },
  {
   "cell_type": "markdown",
   "metadata": {},
   "source": [
    "1.1 Período del ciclo solar\n",
    "\n"
   ]
  },
  {
   "cell_type": "code",
   "execution_count": 60,
   "metadata": {},
   "outputs": [
    {
     "name": "stdout",
     "output_type": "stream",
     "text": [
      "Frecuencia Principal (nan+nanj)\n",
      "Periodo del ciclo Solar (nan+nanj)\n"
     ]
    },
    {
     "name": "stderr",
     "output_type": "stream",
     "text": [
      "C:\\Users\\Thomas\\AppData\\Local\\Temp\\ipykernel_5748\\629194338.py:5: RuntimeWarning: invalid value encountered in cdouble_scalars\n",
      "  Periodo_ciclo_solar=1/frecuencia_principal\n"
     ]
    }
   ],
   "source": [
    "fourier=np.fft.fft(datos['SSN'])\n",
    "frecuencias=np.fft.fftfreq(len(fourier),d=1/365)\n",
    "frecuencia_principal=np.max(fourier)\n",
    "print('Frecuencia Principal',frecuencia_principal)\n",
    "Periodo_ciclo_solar=1/frecuencia_principal\n",
    "print('Periodo del ciclo Solar',Periodo_ciclo_solar)"
   ]
  }
 ],
 "metadata": {
  "kernelspec": {
   "display_name": "Python 3",
   "language": "python",
   "name": "python3"
  },
  "language_info": {
   "codemirror_mode": {
    "name": "ipython",
    "version": 3
   },
   "file_extension": ".py",
   "mimetype": "text/x-python",
   "name": "python",
   "nbconvert_exporter": "python",
   "pygments_lexer": "ipython3",
   "version": "3.9.13"
  }
 },
 "nbformat": 4,
 "nbformat_minor": 2
}
